{
 "cells": [
  {
   "cell_type": "markdown",
   "metadata": {},
   "source": [
    "## The goal of this model is to predict airplane arrival delay 1 week in advance"
   ]
  },
  {
   "cell_type": "code",
   "execution_count": 18,
   "metadata": {},
   "outputs": [],
   "source": [
    "import pandas as pd\n",
    "import datetime\n",
    "import psycopg2\n",
    "import numpy as np\n",
    "import matplotlib.pyplot as plt"
   ]
  },
  {
   "cell_type": "code",
   "execution_count": 2,
   "metadata": {},
   "outputs": [],
   "source": [
    "#Connect to database with psycopg2\n",
    "connection = psycopg2.connect(\n",
    "    host=\"mid-term-project.ca2jkepgjpne.us-east-2.rds.amazonaws.com\",\n",
    "    database=\"mid_term_project\",\n",
    "    user=\"lhl_student\",\n",
    "    password=\"lhl_student\",\n",
    "    port=5432\n",
    ")"
   ]
  },
  {
   "cell_type": "code",
   "execution_count": 3,
   "metadata": {},
   "outputs": [
    {
     "data": {
      "text/html": [
       "<div>\n",
       "<style scoped>\n",
       "    .dataframe tbody tr th:only-of-type {\n",
       "        vertical-align: middle;\n",
       "    }\n",
       "\n",
       "    .dataframe tbody tr th {\n",
       "        vertical-align: top;\n",
       "    }\n",
       "\n",
       "    .dataframe thead th {\n",
       "        text-align: right;\n",
       "    }\n",
       "</style>\n",
       "<table border=\"1\" class=\"dataframe\">\n",
       "  <thead>\n",
       "    <tr style=\"text-align: right;\">\n",
       "      <th></th>\n",
       "      <th>fl_date</th>\n",
       "      <th>mkt_carrier</th>\n",
       "      <th>origin</th>\n",
       "      <th>dest</th>\n",
       "      <th>crs_dep_time</th>\n",
       "      <th>crs_arr_time</th>\n",
       "      <th>crs_elapsed_time</th>\n",
       "      <th>arr_delay</th>\n",
       "      <th>distance</th>\n",
       "      <th>dest_city_name</th>\n",
       "    </tr>\n",
       "  </thead>\n",
       "  <tbody>\n",
       "    <tr>\n",
       "      <th>0</th>\n",
       "      <td>2018-01-26</td>\n",
       "      <td>VX</td>\n",
       "      <td>JFK</td>\n",
       "      <td>LAS</td>\n",
       "      <td>750</td>\n",
       "      <td>1051</td>\n",
       "      <td>361.0</td>\n",
       "      <td>-41.0</td>\n",
       "      <td>2248.0</td>\n",
       "      <td>Las Vegas, NV</td>\n",
       "    </tr>\n",
       "    <tr>\n",
       "      <th>1</th>\n",
       "      <td>2018-08-13</td>\n",
       "      <td>AA</td>\n",
       "      <td>ORD</td>\n",
       "      <td>MKE</td>\n",
       "      <td>850</td>\n",
       "      <td>937</td>\n",
       "      <td>47.0</td>\n",
       "      <td>-5.0</td>\n",
       "      <td>67.0</td>\n",
       "      <td>Milwaukee, WI</td>\n",
       "    </tr>\n",
       "    <tr>\n",
       "      <th>2</th>\n",
       "      <td>2019-07-07</td>\n",
       "      <td>DL</td>\n",
       "      <td>ICT</td>\n",
       "      <td>ATL</td>\n",
       "      <td>1714</td>\n",
       "      <td>2030</td>\n",
       "      <td>136.0</td>\n",
       "      <td>-2.0</td>\n",
       "      <td>782.0</td>\n",
       "      <td>Atlanta, GA</td>\n",
       "    </tr>\n",
       "    <tr>\n",
       "      <th>3</th>\n",
       "      <td>2019-08-09</td>\n",
       "      <td>AA</td>\n",
       "      <td>BOI</td>\n",
       "      <td>DFW</td>\n",
       "      <td>710</td>\n",
       "      <td>1120</td>\n",
       "      <td>190.0</td>\n",
       "      <td>-19.0</td>\n",
       "      <td>1272.0</td>\n",
       "      <td>Dallas/Fort Worth, TX</td>\n",
       "    </tr>\n",
       "    <tr>\n",
       "      <th>4</th>\n",
       "      <td>2019-02-14</td>\n",
       "      <td>AA</td>\n",
       "      <td>MEM</td>\n",
       "      <td>ORD</td>\n",
       "      <td>518</td>\n",
       "      <td>710</td>\n",
       "      <td>112.0</td>\n",
       "      <td>NaN</td>\n",
       "      <td>491.0</td>\n",
       "      <td>Chicago, IL</td>\n",
       "    </tr>\n",
       "  </tbody>\n",
       "</table>\n",
       "</div>"
      ],
      "text/plain": [
       "      fl_date mkt_carrier origin dest  crs_dep_time  crs_arr_time  \\\n",
       "0  2018-01-26          VX    JFK  LAS           750          1051   \n",
       "1  2018-08-13          AA    ORD  MKE           850           937   \n",
       "2  2019-07-07          DL    ICT  ATL          1714          2030   \n",
       "3  2019-08-09          AA    BOI  DFW           710          1120   \n",
       "4  2019-02-14          AA    MEM  ORD           518           710   \n",
       "\n",
       "   crs_elapsed_time  arr_delay  distance         dest_city_name  \n",
       "0             361.0      -41.0    2248.0          Las Vegas, NV  \n",
       "1              47.0       -5.0      67.0          Milwaukee, WI  \n",
       "2             136.0       -2.0     782.0            Atlanta, GA  \n",
       "3             190.0      -19.0    1272.0  Dallas/Fort Worth, TX  \n",
       "4             112.0        NaN     491.0            Chicago, IL  "
      ]
     },
     "execution_count": 3,
     "metadata": {},
     "output_type": "execute_result"
    }
   ],
   "source": [
    "#target variable is arr_delay. positive value means delay, negative value means early departure\n",
    "df_flights = pd.read_sql_query('SELECT fl_date, mkt_carrier, origin, dest, crs_dep_time, crs_arr_time, crs_elapsed_time, arr_delay, distance, dest_city_name FROM flights ORDER BY RANDOM() LIMIT 60000;', connection)\n",
    "df_flights.head()"
   ]
  },
  {
   "cell_type": "markdown",
   "metadata": {},
   "source": [
    "## Data Cleaning"
   ]
  },
  {
   "cell_type": "code",
   "execution_count": 4,
   "metadata": {},
   "outputs": [
    {
     "data": {
      "text/plain": [
       "fl_date                0\n",
       "mkt_carrier            0\n",
       "origin                 0\n",
       "dest                   0\n",
       "crs_dep_time           0\n",
       "crs_arr_time           0\n",
       "crs_elapsed_time       0\n",
       "arr_delay           1152\n",
       "distance               0\n",
       "dest_city_name         0\n",
       "dtype: int64"
      ]
     },
     "execution_count": 4,
     "metadata": {},
     "output_type": "execute_result"
    }
   ],
   "source": [
    "#the only nulls are in arr_delay, which we assume is on time flight\n",
    "df_flights.isnull().sum()"
   ]
  },
  {
   "cell_type": "code",
   "execution_count": 5,
   "metadata": {},
   "outputs": [
    {
     "data": {
      "text/html": [
       "<div>\n",
       "<style scoped>\n",
       "    .dataframe tbody tr th:only-of-type {\n",
       "        vertical-align: middle;\n",
       "    }\n",
       "\n",
       "    .dataframe tbody tr th {\n",
       "        vertical-align: top;\n",
       "    }\n",
       "\n",
       "    .dataframe thead th {\n",
       "        text-align: right;\n",
       "    }\n",
       "</style>\n",
       "<table border=\"1\" class=\"dataframe\">\n",
       "  <thead>\n",
       "    <tr style=\"text-align: right;\">\n",
       "      <th></th>\n",
       "      <th>crs_dep_time</th>\n",
       "      <th>crs_arr_time</th>\n",
       "      <th>crs_elapsed_time</th>\n",
       "      <th>arr_delay</th>\n",
       "      <th>distance</th>\n",
       "    </tr>\n",
       "  </thead>\n",
       "  <tbody>\n",
       "    <tr>\n",
       "      <th>count</th>\n",
       "      <td>60000.000000</td>\n",
       "      <td>60000.000000</td>\n",
       "      <td>60000.000000</td>\n",
       "      <td>58848.000000</td>\n",
       "      <td>60000.000000</td>\n",
       "    </tr>\n",
       "    <tr>\n",
       "      <th>mean</th>\n",
       "      <td>1330.910417</td>\n",
       "      <td>1487.182567</td>\n",
       "      <td>138.030483</td>\n",
       "      <td>5.544521</td>\n",
       "      <td>768.249067</td>\n",
       "    </tr>\n",
       "    <tr>\n",
       "      <th>std</th>\n",
       "      <td>488.708146</td>\n",
       "      <td>515.737443</td>\n",
       "      <td>71.874475</td>\n",
       "      <td>52.072603</td>\n",
       "      <td>584.051890</td>\n",
       "    </tr>\n",
       "    <tr>\n",
       "      <th>min</th>\n",
       "      <td>5.000000</td>\n",
       "      <td>1.000000</td>\n",
       "      <td>20.000000</td>\n",
       "      <td>-66.000000</td>\n",
       "      <td>31.000000</td>\n",
       "    </tr>\n",
       "    <tr>\n",
       "      <th>25%</th>\n",
       "      <td>915.000000</td>\n",
       "      <td>1100.000000</td>\n",
       "      <td>87.000000</td>\n",
       "      <td>-15.000000</td>\n",
       "      <td>342.000000</td>\n",
       "    </tr>\n",
       "    <tr>\n",
       "      <th>50%</th>\n",
       "      <td>1325.000000</td>\n",
       "      <td>1516.000000</td>\n",
       "      <td>120.000000</td>\n",
       "      <td>-6.000000</td>\n",
       "      <td>605.000000</td>\n",
       "    </tr>\n",
       "    <tr>\n",
       "      <th>75%</th>\n",
       "      <td>1735.000000</td>\n",
       "      <td>1918.000000</td>\n",
       "      <td>168.000000</td>\n",
       "      <td>8.000000</td>\n",
       "      <td>1005.000000</td>\n",
       "    </tr>\n",
       "    <tr>\n",
       "      <th>max</th>\n",
       "      <td>2359.000000</td>\n",
       "      <td>2359.000000</td>\n",
       "      <td>1609.000000</td>\n",
       "      <td>2050.000000</td>\n",
       "      <td>5095.000000</td>\n",
       "    </tr>\n",
       "  </tbody>\n",
       "</table>\n",
       "</div>"
      ],
      "text/plain": [
       "       crs_dep_time  crs_arr_time  crs_elapsed_time     arr_delay  \\\n",
       "count  60000.000000  60000.000000      60000.000000  58848.000000   \n",
       "mean    1330.910417   1487.182567        138.030483      5.544521   \n",
       "std      488.708146    515.737443         71.874475     52.072603   \n",
       "min        5.000000      1.000000         20.000000    -66.000000   \n",
       "25%      915.000000   1100.000000         87.000000    -15.000000   \n",
       "50%     1325.000000   1516.000000        120.000000     -6.000000   \n",
       "75%     1735.000000   1918.000000        168.000000      8.000000   \n",
       "max     2359.000000   2359.000000       1609.000000   2050.000000   \n",
       "\n",
       "           distance  \n",
       "count  60000.000000  \n",
       "mean     768.249067  \n",
       "std      584.051890  \n",
       "min       31.000000  \n",
       "25%      342.000000  \n",
       "50%      605.000000  \n",
       "75%     1005.000000  \n",
       "max     5095.000000  "
      ]
     },
     "execution_count": 5,
     "metadata": {},
     "output_type": "execute_result"
    }
   ],
   "source": [
    "#only concern is elapsed_time has negative values. everything else seems realistic\n",
    "df_flights.describe()"
   ]
  },
  {
   "cell_type": "code",
   "execution_count": 6,
   "metadata": {},
   "outputs": [
    {
     "data": {
      "text/html": [
       "<div>\n",
       "<style scoped>\n",
       "    .dataframe tbody tr th:only-of-type {\n",
       "        vertical-align: middle;\n",
       "    }\n",
       "\n",
       "    .dataframe tbody tr th {\n",
       "        vertical-align: top;\n",
       "    }\n",
       "\n",
       "    .dataframe thead th {\n",
       "        text-align: right;\n",
       "    }\n",
       "</style>\n",
       "<table border=\"1\" class=\"dataframe\">\n",
       "  <thead>\n",
       "    <tr style=\"text-align: right;\">\n",
       "      <th></th>\n",
       "      <th>fl_date</th>\n",
       "      <th>mkt_carrier</th>\n",
       "      <th>origin</th>\n",
       "      <th>dest</th>\n",
       "      <th>crs_dep_time</th>\n",
       "      <th>crs_arr_time</th>\n",
       "      <th>crs_elapsed_time</th>\n",
       "      <th>arr_delay</th>\n",
       "      <th>distance</th>\n",
       "      <th>dest_city_name</th>\n",
       "    </tr>\n",
       "  </thead>\n",
       "  <tbody>\n",
       "  </tbody>\n",
       "</table>\n",
       "</div>"
      ],
      "text/plain": [
       "Empty DataFrame\n",
       "Columns: [fl_date, mkt_carrier, origin, dest, crs_dep_time, crs_arr_time, crs_elapsed_time, arr_delay, distance, dest_city_name]\n",
       "Index: []"
      ]
     },
     "execution_count": 6,
     "metadata": {},
     "output_type": "execute_result"
    }
   ],
   "source": [
    "#how many negative elapsed time\n",
    "df_flights[df_flights['crs_elapsed_time']<0]"
   ]
  },
  {
   "cell_type": "code",
   "execution_count": 7,
   "metadata": {},
   "outputs": [],
   "source": [
    "#since it is just one outlier we can drop it\n",
    "df_flights = df_flights[df_flights['crs_elapsed_time']>0]"
   ]
  },
  {
   "cell_type": "markdown",
   "metadata": {},
   "source": [
    "## Exploratory Data Analysis"
   ]
  },
  {
   "cell_type": "code",
   "execution_count": 16,
   "metadata": {},
   "outputs": [
    {
     "data": {
      "text/html": [
       "<div>\n",
       "<style scoped>\n",
       "    .dataframe tbody tr th:only-of-type {\n",
       "        vertical-align: middle;\n",
       "    }\n",
       "\n",
       "    .dataframe tbody tr th {\n",
       "        vertical-align: top;\n",
       "    }\n",
       "\n",
       "    .dataframe thead th {\n",
       "        text-align: right;\n",
       "    }\n",
       "</style>\n",
       "<table border=\"1\" class=\"dataframe\">\n",
       "  <thead>\n",
       "    <tr style=\"text-align: right;\">\n",
       "      <th></th>\n",
       "      <th>fl_date</th>\n",
       "      <th>mkt_carrier</th>\n",
       "      <th>mkt_carrier_fl_num</th>\n",
       "      <th>tail_num</th>\n",
       "      <th>origin</th>\n",
       "      <th>dest</th>\n",
       "      <th>crs_dep_time</th>\n",
       "      <th>crs_elapsed_time</th>\n",
       "      <th>distance</th>\n",
       "      <th>total_delay</th>\n",
       "      <th>month</th>\n",
       "      <th>day_of_week</th>\n",
       "      <th>dep_time</th>\n",
       "    </tr>\n",
       "  </thead>\n",
       "  <tbody>\n",
       "    <tr>\n",
       "      <th>0</th>\n",
       "      <td>2019-05-14</td>\n",
       "      <td>WN</td>\n",
       "      <td>324</td>\n",
       "      <td>N8557Q</td>\n",
       "      <td>PHL</td>\n",
       "      <td>FLL</td>\n",
       "      <td>735</td>\n",
       "      <td>170.0</td>\n",
       "      <td>992.0</td>\n",
       "      <td>0.0</td>\n",
       "      <td>5</td>\n",
       "      <td>1</td>\n",
       "      <td>7</td>\n",
       "    </tr>\n",
       "    <tr>\n",
       "      <th>1</th>\n",
       "      <td>2019-07-31</td>\n",
       "      <td>WN</td>\n",
       "      <td>2717</td>\n",
       "      <td>N953WN</td>\n",
       "      <td>LAX</td>\n",
       "      <td>ELP</td>\n",
       "      <td>2150</td>\n",
       "      <td>110.0</td>\n",
       "      <td>715.0</td>\n",
       "      <td>110.0</td>\n",
       "      <td>7</td>\n",
       "      <td>2</td>\n",
       "      <td>21</td>\n",
       "    </tr>\n",
       "    <tr>\n",
       "      <th>2</th>\n",
       "      <td>2018-05-01</td>\n",
       "      <td>DL</td>\n",
       "      <td>1302</td>\n",
       "      <td>N985AT</td>\n",
       "      <td>ATL</td>\n",
       "      <td>SDF</td>\n",
       "      <td>1053</td>\n",
       "      <td>80.0</td>\n",
       "      <td>321.0</td>\n",
       "      <td>0.0</td>\n",
       "      <td>5</td>\n",
       "      <td>1</td>\n",
       "      <td>10</td>\n",
       "    </tr>\n",
       "    <tr>\n",
       "      <th>3</th>\n",
       "      <td>2019-05-17</td>\n",
       "      <td>AS</td>\n",
       "      <td>3491</td>\n",
       "      <td>N176SY</td>\n",
       "      <td>FAT</td>\n",
       "      <td>SEA</td>\n",
       "      <td>1915</td>\n",
       "      <td>140.0</td>\n",
       "      <td>748.0</td>\n",
       "      <td>0.0</td>\n",
       "      <td>5</td>\n",
       "      <td>4</td>\n",
       "      <td>19</td>\n",
       "    </tr>\n",
       "    <tr>\n",
       "      <th>4</th>\n",
       "      <td>2019-11-08</td>\n",
       "      <td>UA</td>\n",
       "      <td>692</td>\n",
       "      <td>N73283</td>\n",
       "      <td>MCI</td>\n",
       "      <td>ORD</td>\n",
       "      <td>1523</td>\n",
       "      <td>95.0</td>\n",
       "      <td>403.0</td>\n",
       "      <td>0.0</td>\n",
       "      <td>11</td>\n",
       "      <td>4</td>\n",
       "      <td>15</td>\n",
       "    </tr>\n",
       "  </tbody>\n",
       "</table>\n",
       "</div>"
      ],
      "text/plain": [
       "      fl_date mkt_carrier  mkt_carrier_fl_num tail_num origin dest  \\\n",
       "0  2019-05-14          WN                 324   N8557Q    PHL  FLL   \n",
       "1  2019-07-31          WN                2717   N953WN    LAX  ELP   \n",
       "2  2018-05-01          DL                1302   N985AT    ATL  SDF   \n",
       "3  2019-05-17          AS                3491   N176SY    FAT  SEA   \n",
       "4  2019-11-08          UA                 692   N73283    MCI  ORD   \n",
       "\n",
       "   crs_dep_time  crs_elapsed_time  distance  total_delay  month  day_of_week  \\\n",
       "0           735             170.0     992.0          0.0      5            1   \n",
       "1          2150             110.0     715.0        110.0      7            2   \n",
       "2          1053              80.0     321.0          0.0      5            1   \n",
       "3          1915             140.0     748.0          0.0      5            4   \n",
       "4          1523              95.0     403.0          0.0     11            4   \n",
       "\n",
       "   dep_time  \n",
       "0         7  \n",
       "1        21  \n",
       "2        10  \n",
       "3        19  \n",
       "4        15  "
      ]
     },
     "execution_count": 16,
     "metadata": {},
     "output_type": "execute_result"
    }
   ],
   "source": [
    "#try to identify any relationships between delay and any features.\n",
    "#extract some categorical variables first such as month, day of week etc\n",
    "df_delay = pd.read_sql_query('SELECT fl_date, mkt_carrier,mkt_carrier_fl_num,tail_num, origin, dest, crs_dep_time, crs_elapsed_time, distance,arr_delay,dep_delay,carrier_delay,weather_delay,nas_delay,security_delay,late_aircraft_delay  FROM flights ORDER BY RANDOM() LIMIT 60000;', connection)\n",
    "df_delay['total_delay'] = df_delay['dep_delay'] + df_delay['arr_delay'] + df_delay['carrier_delay'] + df_delay['weather_delay'] + df_delay['nas_delay'] + df_delay['security_delay'] + df_delay['late_aircraft_delay']\n",
    "df_delay = df_delay.drop(columns=['arr_delay','dep_delay','carrier_delay','weather_delay','nas_delay','security_delay','late_aircraft_delay'])\n",
    "df_delay['month'] = df_delay['fl_date'].apply(lambda x: int(x.split('-')[1]))\n",
    "df_delay['day_of_week'] = df_delay['fl_date'].apply(get_day_of_week)\n",
    "df_delay['total_delay'] = df_delay['total_delay'].fillna(0)\n",
    "df_delay['dep_time'] = df_delay['crs_dep_time'].apply(lambda x: x//100)\n",
    "df_delay.head()"
   ]
  },
  {
   "cell_type": "code",
   "execution_count": 19,
   "metadata": {},
   "outputs": [
    {
     "data": {
      "text/plain": [
       "Text(0, 0.5, 'Mean Delay')"
      ]
     },
     "execution_count": 19,
     "metadata": {},
     "output_type": "execute_result"
    },
    {
     "data": {
      "image/png": "[encoded data removed]",
      "text/plain": [
       "<Figure size 432x288 with 1 Axes>"
      ]
     },
     "metadata": {
      "needs_background": "light"
     },
     "output_type": "display_data"
    }
   ],
   "source": [
    "#Significant relationship. some Airlines have longer mean delay\n",
    "a = df_delay[['mkt_carrier','total_delay']].groupby(df_delay['mkt_carrier']).mean().sort_values(by='total_delay')\n",
    "plt.scatter(a.index,a.values)\n",
    "plt.title('Mean Delay by Carrier')\n",
    "plt.xlabel('Carrier')\n",
    "plt.ylabel('Mean Delay')"
   ]
  },
  {
   "cell_type": "code",
   "execution_count": 20,
   "metadata": {},
   "outputs": [
    {
     "data": {
      "text/plain": [
       "Text(0, 0.5, 'Mean Delay')"
      ]
     },
     "execution_count": 20,
     "metadata": {},
     "output_type": "execute_result"
    },
    {
     "data": {
      "image/png": "[encoded data removed]",
      "text/plain": [
       "<Figure size 432x288 with 1 Axes>"
      ]
     },
     "metadata": {
      "needs_background": "light"
     },
     "output_type": "display_data"
    }
   ],
   "source": [
    "#origin airport probably not significant. seems like outliers\n",
    "b = df_delay[['origin','total_delay']].groupby(df_delay['origin']).mean().sort_values(by='total_delay')\n",
    "plt.scatter(b.index,b.values)\n",
    "plt.title('Mean Delay by Origin')\n",
    "plt.xlabel('Origin')\n",
    "plt.ylabel('Mean Delay')"
   ]
  },
  {
   "cell_type": "code",
   "execution_count": 23,
   "metadata": {},
   "outputs": [
    {
     "data": {
      "text/plain": [
       "Text(0, 0.5, 'Mean Delay')"
      ]
     },
     "execution_count": 23,
     "metadata": {},
     "output_type": "execute_result"
    },
    {
     "data": {
      "image/png": "[encoded data removed]",
      "text/plain": [
       "<Figure size 432x288 with 1 Axes>"
      ]
     },
     "metadata": {
      "needs_background": "light"
     },
     "output_type": "display_data"
    }
   ],
   "source": [
    "#significant relationship between departure time of day and mean delay\n",
    "d = df_delay[['dep_time','total_delay']].groupby(df_delay['dep_time']).mean().sort_values(by='total_delay')\n",
    "plt.scatter(d['dep_time'],d['total_delay'])\n",
    "plt.title('Mean Delay by Departure Time')\n",
    "plt.xlabel('Departure Time')\n",
    "plt.ylabel('Mean Delay')"
   ]
  },
  {
   "cell_type": "code",
   "execution_count": 27,
   "metadata": {},
   "outputs": [
    {
     "data": {
      "text/plain": [
       "(-51.900000000000006, 500.0)"
      ]
     },
     "execution_count": 27,
     "metadata": {},
     "output_type": "execute_result"
    },
    {
     "data": {
      "image/png": "[encoded data removed]",
      "text/plain": [
       "<Figure size 432x288 with 1 Axes>"
      ]
     },
     "metadata": {
      "needs_background": "light"
     },
     "output_type": "display_data"
    }
   ],
   "source": [
    "#insignificant\n",
    "e = df_delay[['crs_elapsed_time','total_delay']].groupby(df_delay['crs_elapsed_time']).mean().sort_values(by='total_delay')\n",
    "plt.scatter(e['crs_elapsed_time'],e['total_delay'])\n",
    "plt.title('Mean Delay by Flight Elapsed Time')\n",
    "plt.xlabel('Flight Elapsed Time')\n",
    "plt.ylabel('Mean Delay')\n",
    "plt.xlim(right=800)\n",
    "plt.ylim(top=500)"
   ]
  },
  {
   "cell_type": "code",
   "execution_count": 28,
   "metadata": {},
   "outputs": [
    {
     "data": {
      "text/plain": [
       "Text(0, 0.5, 'Mean Delay')"
      ]
     },
     "execution_count": 28,
     "metadata": {},
     "output_type": "execute_result"
    },
    {
     "data": {
      "image/png": "[encoded data removed]",
      "text/plain": [
       "<Figure size 432x288 with 1 Axes>"
      ]
     },
     "metadata": {
      "needs_background": "light"
     },
     "output_type": "display_data"
    }
   ],
   "source": [
    "#seems significant by season. ie summer, winter\n",
    "g = df_delay[['month','total_delay']].groupby(df_delay['month']).mean().sort_values(by='total_delay')\n",
    "plt.scatter(g['month'],g['total_delay'])\n",
    "plt.title('Mean Delay by Month')\n",
    "plt.xlabel('Month')\n",
    "plt.ylabel('Mean Delay')"
   ]
  },
  {
   "cell_type": "code",
   "execution_count": 29,
   "metadata": {
    "scrolled": true
   },
   "outputs": [
    {
     "data": {
      "text/plain": [
       "Text(0, 0.5, 'Mean Delay')"
      ]
     },
     "execution_count": 29,
     "metadata": {},
     "output_type": "execute_result"
    },
    {
     "data": {
      "image/png": "[encoded data removed]",
      "text/plain": [
       "<Figure size 432x288 with 1 Axes>"
      ]
     },
     "metadata": {
      "needs_background": "light"
     },
     "output_type": "display_data"
    }
   ],
   "source": [
    "#seems significant by weekday/weekend\n",
    "h = df_delay[['day_of_week','total_delay']].groupby(df_delay['day_of_week']).mean().sort_values(by='total_delay')\n",
    "plt.scatter(h['day_of_week'],h['total_delay'])\n",
    "plt.title('Mean Delay by Day of Week')\n",
    "plt.xlabel('Day of Week')\n",
    "plt.ylabel('Mean Delay')"
   ]
  },
  {
   "cell_type": "markdown",
   "metadata": {},
   "source": [
    "#### Now that some relationships have been identified, they will be engineered into features to hopefully boost our models accuracy"
   ]
  },
  {
   "cell_type": "markdown",
   "metadata": {},
   "source": [
    "## Feature Engineering"
   ]
  },
  {
   "cell_type": "code",
   "execution_count": 12,
   "metadata": {},
   "outputs": [],
   "source": [
    "#getter functions\n",
    "def get_day_of_week(x):\n",
    "    a = int(x.split('-')[0])\n",
    "    b = int(x.split('-')[1])\n",
    "    c = int(x.split('-')[2])\n",
    "    dt = datetime.datetime(a,b,c)\n",
    "    return dt.weekday()\n",
    "\n",
    "def get_flight_length(x):\n",
    "    if x < 180:\n",
    "        return 'short'\n",
    "    elif x > 360:\n",
    "        return 'long'\n",
    "    else:\n",
    "        return 'medium'\n",
    "    \n",
    "def get_traffic(x):\n",
    "    if x < 700:\n",
    "        return 'quiet'\n",
    "    elif x > 4200:\n",
    "        return 'busy'\n",
    "    else:\n",
    "        return 'moderate'\n",
    "    \n",
    "def get_arr_delay(x):\n",
    "    if x > 0:\n",
    "        return 'delay'\n",
    "    elif x == 0:\n",
    "        return 'on time'\n",
    "    else:\n",
    "        return 'early'\n",
    "    \n",
    "def get_season(x):\n",
    "    if x > 5 and x < 9:\n",
    "        return 'summer'\n",
    "    elif x > 8 and x < 12:\n",
    "        return 'fall'\n",
    "    elif x < 6 and x > 2:\n",
    "        return 'spring'\n",
    "    else:\n",
    "        return 'winter'\n",
    "\n",
    "def get_dep_time_cat(x):\n",
    "    if x > 1 and x < 10:\n",
    "        return 'morning'\n",
    "    elif x > 9 and x < 18:\n",
    "        return 'afternoon'\n",
    "    else:\n",
    "        return 'evening'"
   ]
  },
  {
   "cell_type": "code",
   "execution_count": 35,
   "metadata": {},
   "outputs": [
    {
     "data": {
      "text/html": [
       "<div>\n",
       "<style scoped>\n",
       "    .dataframe tbody tr th:only-of-type {\n",
       "        vertical-align: middle;\n",
       "    }\n",
       "\n",
       "    .dataframe tbody tr th {\n",
       "        vertical-align: top;\n",
       "    }\n",
       "\n",
       "    .dataframe thead th {\n",
       "        text-align: right;\n",
       "    }\n",
       "</style>\n",
       "<table border=\"1\" class=\"dataframe\">\n",
       "  <thead>\n",
       "    <tr style=\"text-align: right;\">\n",
       "      <th></th>\n",
       "      <th>origin</th>\n",
       "      <th>dest</th>\n",
       "      <th>passengers</th>\n",
       "      <th>month</th>\n",
       "    </tr>\n",
       "  </thead>\n",
       "  <tbody>\n",
       "    <tr>\n",
       "      <th>0</th>\n",
       "      <td>BNA</td>\n",
       "      <td>SFO</td>\n",
       "      <td>936.0</td>\n",
       "      <td>10</td>\n",
       "    </tr>\n",
       "    <tr>\n",
       "      <th>1</th>\n",
       "      <td>SJC</td>\n",
       "      <td>DEN</td>\n",
       "      <td>1758.0</td>\n",
       "      <td>2</td>\n",
       "    </tr>\n",
       "    <tr>\n",
       "      <th>2</th>\n",
       "      <td>MCO</td>\n",
       "      <td>LGW</td>\n",
       "      <td>2975.0</td>\n",
       "      <td>12</td>\n",
       "    </tr>\n",
       "    <tr>\n",
       "      <th>3</th>\n",
       "      <td>ORD</td>\n",
       "      <td>LHR</td>\n",
       "      <td>11081.0</td>\n",
       "      <td>11</td>\n",
       "    </tr>\n",
       "    <tr>\n",
       "      <th>4</th>\n",
       "      <td>STL</td>\n",
       "      <td>DEN</td>\n",
       "      <td>4332.0</td>\n",
       "      <td>10</td>\n",
       "    </tr>\n",
       "  </tbody>\n",
       "</table>\n",
       "</div>"
      ],
      "text/plain": [
       "  origin dest  passengers  month\n",
       "0    BNA  SFO       936.0     10\n",
       "1    SJC  DEN      1758.0      2\n",
       "2    MCO  LGW      2975.0     12\n",
       "3    ORD  LHR     11081.0     11\n",
       "4    STL  DEN      4332.0     10"
      ]
     },
     "execution_count": 35,
     "metadata": {},
     "output_type": "execute_result"
    }
   ],
   "source": [
    "df_traffic = pd.read_sql_query('SELECT origin, dest, passengers, month FROM passengers ORDER BY RANDOM() LIMIT 60000;', connection)\n",
    "df_traffic.head()"
   ]
  },
  {
   "cell_type": "code",
   "execution_count": 38,
   "metadata": {},
   "outputs": [
    {
     "data": {
      "text/html": [
       "<div>\n",
       "<style scoped>\n",
       "    .dataframe tbody tr th:only-of-type {\n",
       "        vertical-align: middle;\n",
       "    }\n",
       "\n",
       "    .dataframe tbody tr th {\n",
       "        vertical-align: top;\n",
       "    }\n",
       "\n",
       "    .dataframe thead th {\n",
       "        text-align: right;\n",
       "    }\n",
       "</style>\n",
       "<table border=\"1\" class=\"dataframe\">\n",
       "  <thead>\n",
       "    <tr style=\"text-align: right;\">\n",
       "      <th></th>\n",
       "      <th>mkt_carrier</th>\n",
       "      <th>origin</th>\n",
       "      <th>dest</th>\n",
       "      <th>arr_delay</th>\n",
       "      <th>distance</th>\n",
       "      <th>month</th>\n",
       "      <th>day_of_week</th>\n",
       "      <th>departure_time</th>\n",
       "      <th>flight_length</th>\n",
       "      <th>airport_traffic</th>\n",
       "      <th>weekday_weekend</th>\n",
       "      <th>season</th>\n",
       "      <th>departure_time_cat</th>\n",
       "    </tr>\n",
       "  </thead>\n",
       "  <tbody>\n",
       "    <tr>\n",
       "      <th>0</th>\n",
       "      <td>AA</td>\n",
       "      <td>ORD</td>\n",
       "      <td>MCO</td>\n",
       "      <td>early</td>\n",
       "      <td>100.0</td>\n",
       "      <td>12</td>\n",
       "      <td>0</td>\n",
       "      <td>11</td>\n",
       "      <td>short</td>\n",
       "      <td>quiet</td>\n",
       "      <td>weekday</td>\n",
       "      <td>winter</td>\n",
       "      <td>afternoon</td>\n",
       "    </tr>\n",
       "    <tr>\n",
       "      <th>1</th>\n",
       "      <td>NK</td>\n",
       "      <td>ORD</td>\n",
       "      <td>MCO</td>\n",
       "      <td>early</td>\n",
       "      <td>100.0</td>\n",
       "      <td>12</td>\n",
       "      <td>5</td>\n",
       "      <td>11</td>\n",
       "      <td>short</td>\n",
       "      <td>quiet</td>\n",
       "      <td>weekend</td>\n",
       "      <td>winter</td>\n",
       "      <td>afternoon</td>\n",
       "    </tr>\n",
       "    <tr>\n",
       "      <th>2</th>\n",
       "      <td>AA</td>\n",
       "      <td>ORD</td>\n",
       "      <td>MCO</td>\n",
       "      <td>delay</td>\n",
       "      <td>100.0</td>\n",
       "      <td>12</td>\n",
       "      <td>0</td>\n",
       "      <td>7</td>\n",
       "      <td>short</td>\n",
       "      <td>quiet</td>\n",
       "      <td>weekday</td>\n",
       "      <td>winter</td>\n",
       "      <td>morning</td>\n",
       "    </tr>\n",
       "    <tr>\n",
       "      <th>3</th>\n",
       "      <td>NK</td>\n",
       "      <td>ORD</td>\n",
       "      <td>MCO</td>\n",
       "      <td>early</td>\n",
       "      <td>100.0</td>\n",
       "      <td>12</td>\n",
       "      <td>4</td>\n",
       "      <td>11</td>\n",
       "      <td>short</td>\n",
       "      <td>quiet</td>\n",
       "      <td>weekday</td>\n",
       "      <td>winter</td>\n",
       "      <td>afternoon</td>\n",
       "    </tr>\n",
       "    <tr>\n",
       "      <th>4</th>\n",
       "      <td>UA</td>\n",
       "      <td>ORD</td>\n",
       "      <td>MCO</td>\n",
       "      <td>early</td>\n",
       "      <td>100.0</td>\n",
       "      <td>12</td>\n",
       "      <td>2</td>\n",
       "      <td>11</td>\n",
       "      <td>short</td>\n",
       "      <td>quiet</td>\n",
       "      <td>weekday</td>\n",
       "      <td>winter</td>\n",
       "      <td>afternoon</td>\n",
       "    </tr>\n",
       "  </tbody>\n",
       "</table>\n",
       "</div>"
      ],
      "text/plain": [
       "  mkt_carrier origin dest arr_delay  distance  month  day_of_week  \\\n",
       "0          AA    ORD  MCO     early     100.0     12            0   \n",
       "1          NK    ORD  MCO     early     100.0     12            5   \n",
       "2          AA    ORD  MCO     delay     100.0     12            0   \n",
       "3          NK    ORD  MCO     early     100.0     12            4   \n",
       "4          UA    ORD  MCO     early     100.0     12            2   \n",
       "\n",
       "   departure_time flight_length airport_traffic weekday_weekend  season  \\\n",
       "0              11         short           quiet         weekday  winter   \n",
       "1              11         short           quiet         weekend  winter   \n",
       "2               7         short           quiet         weekday  winter   \n",
       "3              11         short           quiet         weekday  winter   \n",
       "4              11         short           quiet         weekday  winter   \n",
       "\n",
       "  departure_time_cat  \n",
       "0          afternoon  \n",
       "1          afternoon  \n",
       "2            morning  \n",
       "3          afternoon  \n",
       "4          afternoon  "
      ]
     },
     "execution_count": 38,
     "metadata": {},
     "output_type": "execute_result"
    }
   ],
   "source": [
    "#create features based on bining into categorical variables\n",
    "df_features = df_flights.copy()[['mkt_carrier','origin','dest','arr_delay','distance']]\n",
    "df_features['month'] = df_flights['fl_date'].apply(lambda x: int(x.split('-')[1]))\n",
    "df_features['day_of_week'] = df_flights['fl_date'].apply(get_day_of_week)\n",
    "df_features['departure_time'] = df_flights['crs_dep_time'].apply(lambda x: x//100)\n",
    "df_features['flight_length'] = df_flights['crs_elapsed_time'].apply(get_flight_length)\n",
    "df_features = pd.merge(df_features,df_traffic, on=['origin','dest','month'])\n",
    "df_features['passengers'] = df_features['passengers'].replace(0, np.nan).dropna(axis=0, how='any')\n",
    "df_features['airport_traffic'] = df_features['passengers'].apply(get_traffic)\n",
    "df_features = df_features.drop(columns=['passengers'])\n",
    "df_features['distance'] = df_features['distance'].apply(lambda x: x//10)\n",
    "df_features['arr_delay'] = df_features['arr_delay'].apply(get_arr_delay)\n",
    "df_features['weekday_weekend'] = df_features['day_of_week'].apply(lambda x: 'weekend' if x > 4 else 'weekday')\n",
    "df_features['season'] = df_features['month'].apply(get_season)\n",
    "df_features['departure_time_cat'] = df_features['departure_time'].apply(get_dep_time_cat)\n",
    "df_features.head()"
   ]
  },
  {
   "cell_type": "markdown",
   "metadata": {},
   "source": [
    "## Exploratory Data Analysis"
   ]
  },
  {
   "cell_type": "code",
   "execution_count": null,
   "metadata": {},
   "outputs": [],
   "source": [
    "s"
   ]
  }
 ],
 "metadata": {
  "kernelspec": {
   "display_name": "Python 3",
   "language": "python",
   "name": "python3"
  },
  "language_info": {
   "codemirror_mode": {
    "name": "ipython",
    "version": 3
   },
   "file_extension": ".py",
   "mimetype": "text/x-python",
   "name": "python",
   "nbconvert_exporter": "python",
   "pygments_lexer": "ipython3",
   "version": "3.8.5"
  }
 },
 "nbformat": 4,
 "nbformat_minor": 4
}
